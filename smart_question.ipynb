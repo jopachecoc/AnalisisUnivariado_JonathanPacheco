{
  "cells": [
    {
      "cell_type": "markdown",
      "metadata": {
        "id": "view-in-github",
        "colab_type": "text"
      },
      "source": [
        "<a href=\"https://colab.research.google.com/github/jopachecoc/AnalisisUnivariado_JonathanPacheco/blob/main/smart_question.ipynb\" target=\"_parent\"><img src=\"https://colab.research.google.com/assets/colab-badge.svg\" alt=\"Open In Colab\"/></a>"
      ]
    },
    {
      "cell_type": "code",
      "execution_count": null,
      "metadata": {
        "cellView": "both",
        "colab": {
          "height": 35
        },
        "id": "WUtu4316QSHL",
        "outputId": "67bdf0c3-d76f-4226-fc34-a2f2d0eba60b"
      },
      "outputs": [
        {
          "data": {
            "text/plain": [
              "10"
            ]
          },
          "execution_count": 0,
          "metadata": {
            "tags": []
          },
          "output_type": "execute_result"
        }
      ],
      "source": []
    },
    {
      "cell_type": "markdown",
      "source": [
        "Pregunta smart\n",
        "Jonathan Pacheco\n",
        "\n",
        "Pronóstico de demanda para repuestos de máquinas cosechadoras de caña en un ingenio en específico.\n",
        "\n",
        "Problema: Incremento del valor del inventario para repuestos de cosechadoras de caña año tras año.\n",
        "Métricas: Pronosticar las ventas futuras de cada uno de los repuestos para de esta manera llegar a tener un pedido sugerido abasteciendo el inventario en los siguientes meses.\n",
        "Pregunta SMART:\n",
        "Que repuestos son necesarios y en qué cantidad para abastecer el inventario de los siguientes 3 meses reduciendo el stock de baja rotación o rotación nula que hay actualmente.\n",
        "Requerimiento de datos: definicion de rotacion de inventario y niveles, informacion de las demandas  de repuestos generadas por las maquinas de ingenio (5 años) e información complementaria sobre perodicidad de cosecha, zafra, trabajo de la maquinas, picos de trabajo estimados etc."
      ],
      "metadata": {
        "id": "qOOqalYcFuRp"
      }
    },
    {
      "cell_type": "code",
      "source": [],
      "metadata": {
        "id": "X2v4vp7tFvMQ"
      },
      "execution_count": null,
      "outputs": []
    },
    {
      "cell_type": "markdown",
      "source": [],
      "metadata": {
        "id": "qSepI6jPFtD_"
      }
    }
  ],
  "metadata": {
    "colab": {
      "toc_visible": true,
      "provenance": [],
      "include_colab_link": true
    },
    "kernelspec": {
      "display_name": "Python 3",
      "name": "python3"
    }
  },
  "nbformat": 4,
  "nbformat_minor": 0
}